{
 "cells": [
  {
   "cell_type": "markdown",
   "metadata": {},
   "source": [
    "# Example usage of surfinBH7dq2 fit."
   ]
  },
  {
   "cell_type": "code",
   "execution_count": 1,
   "metadata": {},
   "outputs": [],
   "source": [
    "import surfinBH"
   ]
  },
  {
   "cell_type": "code",
   "execution_count": 2,
   "metadata": {},
   "outputs": [],
   "source": [
    "fit_name = 'surfinBH7dq2'"
   ]
  },
  {
   "cell_type": "markdown",
   "metadata": {},
   "source": [
    "## Load the fit, this only needs to be done once at the start of a script"
   ]
  },
  {
   "cell_type": "code",
   "execution_count": 3,
   "metadata": {},
   "outputs": [
    {
     "name": "stdout",
     "output_type": "stream",
     "text": [
      "Loaded surfinBH7dq2 fit.\n"
     ]
    }
   ],
   "source": [
    "fit = surfinBH.LoadFits(fit_name)"
   ]
  },
  {
   "cell_type": "markdown",
   "metadata": {},
   "source": [
    "## Read the documentation"
   ]
  },
  {
   "cell_type": "code",
   "execution_count": 4,
   "metadata": {
    "scrolled": true
   },
   "outputs": [
    {
     "name": "stdout",
     "output_type": "stream",
     "text": [
      "Help on Fit7dq2 in module surfinBH._fit_evaluators.fit_7dq2 object:\n",
      "\n",
      "class Fit7dq2(surfinBH.surfinBH.SurFinBH)\n",
      " |  A class for the surfinBH7dq2 model presented in Varma et al.,\n",
      " |  arxiv:1809.09125. This model predicts the final mass mf, final spin vector\n",
      " |  chif and final kick velocity vector vf, for the remnants of precessing\n",
      " |  binary black hole systems.  The fits are done using Gaussian Process\n",
      " |  Regression (GPR) and also provide an error estimate along with the fit\n",
      " |  value.\n",
      " |  \n",
      " |  This model has been trained in the parameter space:\n",
      " |      q <= 2, |chiA| <= 0.8, |chiB| <= 0.8\n",
      " |  \n",
      " |  However, it extrapolates reasonably to:\n",
      " |      q <= 4, |chiA| <= 1, |chiB| <= 1\n",
      " |  \n",
      " |  =========================================================================\n",
      " |  Usage:\n",
      " |  \n",
      " |  import surfinBH\n",
      " |  \n",
      " |  # Load the fit\n",
      " |  fit = surfinBH.LoadFits('surfinBH7dq2')\n",
      " |  \n",
      " |  We provide the following call methods:\n",
      " |      # remnant mass and 1-sigma error estimate\n",
      " |      mf, mf_err = fit.mf(q, chiA, chiB, **kwargs)\n",
      " |  \n",
      " |      # remnant spin and 1-sigma error estimate\n",
      " |      chif, chif_err = fit.chif(q, chiA, chiB, **kwargs)\n",
      " |  \n",
      " |      # remnant recoil kick and 1-sigma error estimate\n",
      " |      vf, vf_err = fit.vf(q, chiA, chiB, **kwargs)\n",
      " |  \n",
      " |      # All of these together\n",
      " |      mf, chif, vf, mf_err, chif_err, vf_err\n",
      " |          = fit.all(q, chiA, chiB, **kwargs)\n",
      " |  \n",
      " |  The arguments for each of these call methods are as follows:\n",
      " |  Arguments:\n",
      " |      q:      Mass ratio (q>=1)\n",
      " |  \n",
      " |      chiA:   Dimensionless spin of the larger BH (array of size 3)\n",
      " |  \n",
      " |      chiB:   Dimensionless spin of the smaller BH (array of size 3)\n",
      " |  \n",
      " |          By default, the spins are assumed to be the component spins at\n",
      " |          t=-100 M from the peak of the waveform, and in the coorbital frame,\n",
      " |          defined as:\n",
      " |          The z-axis is along the orbital angular momentum at t=-100M.\n",
      " |          The x-axis is along the line of separation from the smaller BH to\n",
      " |              the larger BH at this time.\n",
      " |          The y-axis completes the triad.\n",
      " |          We obtain this frame from the waveform as defined in\n",
      " |          arxiv:1705.07089.\n",
      " |          The returned spin and kick vectors are also in the same frame.\n",
      " |  \n",
      " |          If 'omega0' is given, instead the spins are assumed to be the\n",
      " |          component spins when the PN orbital frequency = omega0. The\n",
      " |          spins are assumed to be in the inertial frame, defined as:\n",
      " |          The z-axis is along the Newtonian orbital angular momentum when the\n",
      " |              PN orbital frequency = omega0.\n",
      " |          The x-axis is along the line of separation from the smaller BH to\n",
      " |              the larger BH at this frequency.\n",
      " |          The y-axis completes the triad.\n",
      " |          We obtain this frame from PN.\n",
      " |          Given the spins at omega0, we evolve the spins using PN until\n",
      " |          the orbital frequency = omega_switch, then we further evolve the\n",
      " |          spins using the NRSur7dq2 model (arxiv:1705.07089) until t=-100M\n",
      " |          from the peak of the waveform. Then we evaluate the fits using the\n",
      " |          spins at t=-100 M. Finally, we transform the remnant spin and kick\n",
      " |          vectors back to the inertial frame defined above.\n",
      " |  \n",
      " |  Optional arguments:\n",
      " |      allow_extrap:\n",
      " |          If False, raises a warning when q > 2.1 or |chiA|,|chiB| > 0.81,\n",
      " |              and raises an error when q > 4.1 or |chiA|,|chiB| > 1.\n",
      " |          If True, allows extrapolation to any q and |chiA|,|chiB| <= 1.\n",
      " |              Use at your own risk.\n",
      " |          Default: False.\n",
      " |  \n",
      " |      omega0:\n",
      " |          Initial dimensionless orbital frequency in units of 1/M, where M is\n",
      " |          the total mass. If this is given, the spins in x are assumed to be\n",
      " |          the component spins at this orbital frequency, and in the inertial\n",
      " |          frame as defined above. The returned remnant spin and kick vectors\n",
      " |          are also in the same frame.\n",
      " |          Default: None.\n",
      " |  \n",
      " |      PN_approximant:\n",
      " |          Approximant used to do the PN spin evolution. Choose from\n",
      " |          'SpinTaylorT4', 'SpinTaylorT1' or 'SpinTaylorT2'.\n",
      " |          Default: 'SpinTaylorT4'.\n",
      " |  \n",
      " |      PN_dt:\n",
      " |          Dimensionless time step size in units of M (total mass), used for\n",
      " |          the PN evolution. You may need to increase this if omega0 is very\n",
      " |          low.\n",
      " |          Default: 0.1\n",
      " |  \n",
      " |      PN_spin_order:\n",
      " |          Twice the PN order of spin effects. E.g., use 7 for 3.5PN.\n",
      " |          Default: 7\n",
      " |  \n",
      " |      PN_phase_order:\n",
      " |          Twice the PN order in phase. E.g., use 7 for 3.5PN.\n",
      " |          Default: 7\n",
      " |  \n",
      " |      omega_switch:\n",
      " |          Dimensionless orbital frequency at which to switch from PN to\n",
      " |          NRSur7dq2 model. You may need to increase this if the NRSur7dq2\n",
      " |          model raises an exception like:\n",
      " |          \"Got omega_ref = 0.0180 < 0.0184 = omega_0, too small!\"\n",
      " |          Default: 0.018\n",
      " |  \n",
      " |  Method resolution order:\n",
      " |      Fit7dq2\n",
      " |      surfinBH.surfinBH.SurFinBH\n",
      " |      __builtin__.object\n",
      " |  \n",
      " |  Methods defined here:\n",
      " |  \n",
      " |  __init__(self, name, load_nrsur=False)\n",
      " |      #-------------------------------------------------------------------------\n",
      " |  \n",
      " |  ----------------------------------------------------------------------\n",
      " |  Methods inherited from surfinBH.surfinBH.SurFinBH:\n",
      " |  \n",
      " |  all(self, *args, **kwargs)\n",
      " |      Evaluates fit and 1-sigma error estimate for remnant mass, spin\n",
      " |      and kick velocity.\n",
      " |      Returns:\n",
      " |          mf, chif, vf, mf_err_est, chif_err_est, vf_err_est\n",
      " |      \n",
      " |      chif, vf, chif_err_est and vf_err_est are arrays of size 3.\n",
      " |  \n",
      " |  chif(self, *args, **kwargs)\n",
      " |      Evaluates fit and 1-sigma error estimate for remnant spin.\n",
      " |      Returns:\n",
      " |          chif, chif_err_est\n",
      " |      \n",
      " |      chif and chif_err_est are arrays of size 3.\n",
      " |  \n",
      " |  mf(self, *args, **kwargs)\n",
      " |      Evaluates fit and 1-sigma error estimate for remnant mass.\n",
      " |      Returns:\n",
      " |          mf, mf_err_est\n",
      " |  \n",
      " |  vf(self, *args, **kwargs)\n",
      " |      Evaluates fit and 1-sigma error estimate for remnant kick velocity.\n",
      " |      Returns:\n",
      " |          vf, vf_err_est\n",
      " |      \n",
      " |      vf and vf_err_est are arrays of size 3.\n",
      " |  \n",
      " |  ----------------------------------------------------------------------\n",
      " |  Data descriptors inherited from surfinBH.surfinBH.SurFinBH:\n",
      " |  \n",
      " |  __dict__\n",
      " |      dictionary for instance variables (if defined)\n",
      " |  \n",
      " |  __weakref__\n",
      " |      list of weak references to the object (if defined)\n",
      "\n"
     ]
    }
   ],
   "source": [
    "help(fit)"
   ]
  },
  {
   "cell_type": "markdown",
   "metadata": {},
   "source": [
    "## Evaluate the fits (using spins at t=-100 M)"
   ]
  },
  {
   "cell_type": "code",
   "execution_count": 5,
   "metadata": {},
   "outputs": [],
   "source": [
    "# Note: The component spins, remnant spin and kick are all\n",
    "# assumed to be in the coorbital frame at t=-100M.\n",
    "\n",
    "# Mass ratio and component spins\n",
    "q = 1.2\n",
    "chiA = [0.5, 0.05, 0.3]\n",
    "chiB = [-0.5, -0.05, 0.1]\n",
    "\n",
    "# remnant mass and 1-sigma error estimate\n",
    "mf, mf_err = fit.mf(q, chiA, chiB)\n",
    "\n",
    "# remnant spin and 1-sigma error estimate\n",
    "chif, chif_err = fit.chif(q, chiA, chiB)\n",
    "\n",
    "# remnant recoil kick and 1-sigma error estimate\n",
    "vf, vf_err = fit.vf(q, chiA, chiB)\n",
    "\n",
    "# All of these together\n",
    "mf, chif, vf, mf_err, chif_err, vf_err = fit.all(q, chiA, chiB)"
   ]
  },
  {
   "cell_type": "markdown",
   "metadata": {},
   "source": [
    "# Evaluate the fits using spins at earlier frequencies"
   ]
  },
  {
   "cell_type": "code",
   "execution_count": 6,
   "metadata": {},
   "outputs": [
    {
     "name": "stdout",
     "output_type": "stream",
     "text": [
      "Loaded NRSur7dq2 waveform model\n"
     ]
    }
   ],
   "source": [
    "# Note: The component spins, remnant spin and kick are all\n",
    "# assumed to be in the inertial frame defined at orbital frequency=omega0.\n",
    "\n",
    "# Initial dimensionless orbital frequency (in units of rad/M)\n",
    "omega0 = 7e-3\n",
    "  \n",
    "# remnant mass and 1-sigma error estimate\n",
    "mf, mf_err = fit.mf(q, chiA, chiB, omega0=omega0)\n",
    " \n",
    "# remnant spin and 1-sigma error estimate\n",
    "chif, chif_err = fit.chif(q, chiA, chiB, omega0=omega0)\n",
    " \n",
    "# remnant recoil kick and 1-sigma error estimate\n",
    "vf, vf_err = fit.vf(q, chiA, chiB, omega0=omega0)\n",
    " \n",
    "# All of these together\n",
    "mf, chif, vf, mf_err, chif_err, vf_err = fit.all(q, chiA, chiB, omega0=omega0)"
   ]
  },
  {
   "cell_type": "code",
   "execution_count": null,
   "metadata": {},
   "outputs": [],
   "source": []
  }
 ],
 "metadata": {
  "kernelspec": {
   "display_name": "Python 2",
   "language": "python",
   "name": "python2"
  },
  "language_info": {
   "codemirror_mode": {
    "name": "ipython",
    "version": 2
   },
   "file_extension": ".py",
   "mimetype": "text/x-python",
   "name": "python",
   "nbconvert_exporter": "python",
   "pygments_lexer": "ipython2",
   "version": "2.7.15"
  }
 },
 "nbformat": 4,
 "nbformat_minor": 2
}
