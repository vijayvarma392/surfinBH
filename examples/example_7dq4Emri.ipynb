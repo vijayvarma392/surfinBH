{
 "cells": [
  {
   "cell_type": "markdown",
   "metadata": {},
   "source": [
    "# Example usage of NRSur7dq4EmriRemnant fit."
   ]
  },
  {
   "cell_type": "code",
   "execution_count": 1,
   "metadata": {},
   "outputs": [],
   "source": [
    "import surfinBH"
   ]
  },
  {
   "cell_type": "code",
   "execution_count": 3,
   "metadata": {},
   "outputs": [],
   "source": [
    "fit_name = 'NRSur7dq4EmriRemnant'"
   ]
  },
  {
   "cell_type": "markdown",
   "metadata": {},
   "source": [
    "## Load the fit, this only needs to be done once at the start of a script"
   ]
  },
  {
   "cell_type": "code",
   "execution_count": 4,
   "metadata": {},
   "outputs": [
    {
     "name": "stdout",
     "output_type": "stream",
     "text": [
      "Loaded NRSur7dq4EmriRemnant fit.\n"
     ]
    }
   ],
   "source": [
    "fit = surfinBH.LoadFits(fit_name)"
   ]
  },
  {
   "cell_type": "markdown",
   "metadata": {},
   "source": [
    "## Read the documentation"
   ]
  },
  {
   "cell_type": "code",
   "execution_count": 5,
   "metadata": {
    "scrolled": true
   },
   "outputs": [
    {
     "name": "stdout",
     "output_type": "stream",
     "text": [
      "Help on Fit7dq4Emri in module surfinBH._fit_evaluators.fit_7dq4Emri object:\n",
      "\n",
      "class Fit7dq4Emri(surfinBH.surfinBH.SurFinBH)\n",
      " |  Fit7dq4Emri(name)\n",
      " |  \n",
      " |  A class for the NRSur7dq4EmriRemnant model presented in Boschini et al.,\n",
      " |  arxiv:[] (hereafter THE PAPER). \n",
      " |  \n",
      " |  This model predicts the final mass mf and final spin chif, for the remnants \n",
      " |  of precessing binary black hole systems. \n",
      " |  The fits are done using Gaussian Process Regression (GPR) and also \n",
      " |  provide an error estimate along with the fit value.\n",
      " |  \n",
      " |  This model has been trained in the parameter space:\n",
      " |      NR: q <= 4, |chiA| <= 0.8, |chiB| <= 0.8\n",
      " |      EMRI: 100 <= q <= 1000 , |chiA| <= 1, |chiB| <= 1\n",
      " |  \n",
      " |  It interpolates remnant properties at:\n",
      " |      4 < q < 100\n",
      " |  \n",
      " |  It extrapolates reasonably to:\n",
      " |      q > 1000 , |chiA| <= 1, |chiB| <= 1\n",
      " |  \n",
      " |  =========================================================================\n",
      " |  Usage:\n",
      " |  \n",
      " |  import surfinBH\n",
      " |  \n",
      " |  # Load the fit\n",
      " |  fit = surfinBH.LoadFits('NRSur7dq4EmriRemnant')\n",
      " |  \n",
      " |  We provide the following call methods:\n",
      " |      # remnant mass and 1-sigma error estimate\n",
      " |      mf, mf_err = fit.mf(q, chiA, chiB, **kwargs)\n",
      " |  \n",
      " |      # remnant spin and 1-sigma error estimate\n",
      " |      chif, chif_err = fit.chif(q, chiA, chiB, **kwargs)\n",
      " |      \n",
      " |      # All of these together\n",
      " |      mf, chif, mf_err, chif_err = fit.all(q, chiA, chiB, **kwargs)\n",
      " |  \n",
      " |  The arguments for each of these call methods are as follows:\n",
      " |  Arguments:\n",
      " |      q:     Mass ratio (q = mA/mB >=1)\n",
      " |  \n",
      " |      chiA:  Dimensionless spin vector of the heavier black hole at\n",
      " |              reference epoch.\n",
      " |  \n",
      " |      chiB:  Dimensionless spin vector of the lighter black hole at\n",
      " |              reference epoch.\n",
      " |  \n",
      " |              This follows the same convention as LAL, where the spin\n",
      " |              components are defined as:\n",
      " |              \\chi_z = \\chi \\cdot \\hat{L}, where L is the orbital angular\n",
      " |                  momentum vector at the epoch.\n",
      " |              \\chi_x = \\chi \\cdot \\hat{n}, where n = body2 -> body1 is the\n",
      " |                  separation vector at the epoch. body1 is the heavier body.\n",
      " |              \\chi_y = \\chi \\cdot \\hat{L \\cross n}.\n",
      " |              These spin components are frame-independent as they are defined\n",
      " |              using vector inner products. This is equivalent to specifying\n",
      " |              the spins in the coorbital frame at the reference epoch. \n",
      " |              The reference epoch is assumed to be at t=-100 M from the peak \n",
      " |              of the waveform, see THE PAPER for additional details.\n",
      " |  \n",
      " |  Optional arguments:\n",
      " |      allow_extrap:\n",
      " |          If False, raises a warning when q > 1000.1 or |chiA|,|chiB| > 0.81,\n",
      " |              and raises an error when |chiA|,|chiB| > 1.\n",
      " |          If True, allows extrapolation to any q and |chiA|,|chiB| <= 1.\n",
      " |              Use at your own risk.\n",
      " |          Default: False.\n",
      " |  \n",
      " |  Inertial frame for returned values:\n",
      " |  \n",
      " |      The returned chif are in the LAL inertial frame defined as follows:\n",
      " |          The +ve z-axis is along the orbital angular momentum at the\n",
      " |          reference epoch. The separation vector from the lighter BH to the\n",
      " |          heavier BH at the reference epoch is along the +ve x-axis. The\n",
      " |          y-axis completes the right-handed triad.\n",
      " |  \n",
      " |          Note that the default reference epoch corresponds to t=-100M.\n",
      " |          See LIGO DCC document T1800226 for the LAL frame diagram.\n",
      " |  \n",
      " |  Method resolution order:\n",
      " |      Fit7dq4Emri\n",
      " |      surfinBH.surfinBH.SurFinBH\n",
      " |      builtins.object\n",
      " |  \n",
      " |  Methods defined here:\n",
      " |  \n",
      " |  __init__(self, name)\n",
      " |      name: Name of the fit excluding the surfinBH prefix. Ex: 7dq2.\n",
      " |      soft_param_lims: param limits beyond which to raise a warning.\n",
      " |      hard_param_lims: param limits beyond which to raise an error.\n",
      " |      aligned_spin_only: raise an error if given precessing spins.\n",
      " |      See _fit_evaluators.fit_7dq2.py for an example.\n",
      " |  \n",
      " |  ----------------------------------------------------------------------\n",
      " |  Methods inherited from surfinBH.surfinBH.SurFinBH:\n",
      " |  \n",
      " |  all(self, *args, **kwargs)\n",
      " |      Evaluates fit and 1-sigma error estimate for remnant mass, spin\n",
      " |      and kick velocity.\n",
      " |      Returns:\n",
      " |          mf, chif, vf, mf_err_est, chif_err_est, vf_err_est\n",
      " |      \n",
      " |      chif, vf, chif_err_est and vf_err_est are arrays of size 3.\n",
      " |  \n",
      " |  chif(self, *args, **kwargs)\n",
      " |      Evaluates fit and 1-sigma error estimate for remnant spin.\n",
      " |      Returns:\n",
      " |          chif, chif_err_est\n",
      " |      \n",
      " |      chif and chif_err_est are arrays of size 3.\n",
      " |  \n",
      " |  mf(self, *args, **kwargs)\n",
      " |      Evaluates fit and 1-sigma error estimate for remnant mass.\n",
      " |      Returns:\n",
      " |          mf, mf_err_est\n",
      " |  \n",
      " |  vf(self, *args, **kwargs)\n",
      " |      Evaluates fit and 1-sigma error estimate for remnant kick velocity.\n",
      " |      Returns:\n",
      " |          vf, vf_err_est\n",
      " |      \n",
      " |      vf and vf_err_est are arrays of size 3.\n",
      " |  \n",
      " |  ----------------------------------------------------------------------\n",
      " |  Data descriptors inherited from surfinBH.surfinBH.SurFinBH:\n",
      " |  \n",
      " |  __dict__\n",
      " |      dictionary for instance variables (if defined)\n",
      " |  \n",
      " |  __weakref__\n",
      " |      list of weak references to the object (if defined)\n",
      "\n"
     ]
    }
   ],
   "source": [
    "help(fit)"
   ]
  },
  {
   "cell_type": "markdown",
   "metadata": {},
   "source": [
    "## Evaluate the fits"
   ]
  },
  {
   "cell_type": "code",
   "execution_count": 6,
   "metadata": {},
   "outputs": [
    {
     "name": "stdout",
     "output_type": "stream",
     "text": [
      "mf: 0.9996505613574366 mf_err: 3.3522761776282803e-06\n",
      "chif: [0.49543412 0.04943227 0.31297649] chif_err: [0.00060791 0.00053788 0.00054204]\n",
      "mf: 0.9996505613574366 mf_err: 3.3522761776282803e-06\n",
      "chif: [0.49543412 0.04943227 0.31297649] chif_err: [0.00060791 0.00053788 0.00054204]\n"
     ]
    }
   ],
   "source": [
    "# Mass ratio and component spins at reference epoch (t=-100M)\n",
    "q = 200.4\n",
    "chiA = [0.5, 0.05, 0.3]\n",
    "chiB = [-0.5, -0.05, 0.1]\n",
    "\n",
    "# remnant mass and 1-sigma error estimate\n",
    "mf, mf_err = fit.mf(q, chiA, chiB)\n",
    "print(\"mf:\", mf, \"mf_err:\", mf_err)\n",
    "\n",
    "# remnant spin and 1-sigma error estimate\n",
    "chif, chif_err = fit.chif(q, chiA, chiB)\n",
    "print(\"chif:\", chif, \"chif_err:\", chif_err)\n",
    "\n",
    "# All of these together\n",
    "mf, chif, vf, mf_err, chif_err, vf_err = fit.all(q, chiA, chiB)\n",
    "print(\"mf:\", mf, \"mf_err:\", mf_err)\n",
    "print(\"chif:\", chif, \"chif_err:\", chif_err)"
   ]
  },
  {
   "cell_type": "code",
   "execution_count": null,
   "metadata": {},
   "outputs": [],
   "source": []
  }
 ],
 "metadata": {
  "kernelspec": {
   "display_name": "Python 3 (ipykernel)",
   "language": "python",
   "name": "python3"
  },
  "language_info": {
   "codemirror_mode": {
    "name": "ipython",
    "version": 3
   },
   "file_extension": ".py",
   "mimetype": "text/x-python",
   "name": "python",
   "nbconvert_exporter": "python",
   "pygments_lexer": "ipython3",
   "version": "3.9.16"
  }
 },
 "nbformat": 4,
 "nbformat_minor": 4
}
