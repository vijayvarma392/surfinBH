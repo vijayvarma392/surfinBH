{
 "cells": [
  {
   "cell_type": "markdown",
   "metadata": {},
   "source": [
    "# Example usage of NRSur7dq4Remnant fit."
   ]
  },
  {
   "cell_type": "code",
   "execution_count": 1,
   "metadata": {},
   "outputs": [],
   "source": [
    "import surfinBH"
   ]
  },
  {
   "cell_type": "code",
   "execution_count": 2,
   "metadata": {},
   "outputs": [],
   "source": [
    "fit_name = 'NRSur7dq4Remnant'"
   ]
  },
  {
   "cell_type": "markdown",
   "metadata": {},
   "source": [
    "## Load the fit, this only needs to be done once at the start of a script"
   ]
  },
  {
   "cell_type": "code",
   "execution_count": 3,
   "metadata": {},
   "outputs": [
    {
     "name": "stdout",
     "output_type": "stream",
     "text": [
      "Loaded NRSur7dq4Remnant fit.\n"
     ]
    }
   ],
   "source": [
    "fit = surfinBH.LoadFits(fit_name)"
   ]
  },
  {
   "cell_type": "markdown",
   "metadata": {},
   "source": [
    "## Read the documentation"
   ]
  },
  {
   "cell_type": "code",
   "execution_count": 4,
   "metadata": {
    "scrolled": true
   },
   "outputs": [
    {
     "name": "stdout",
     "output_type": "stream",
     "text": [
      "Help on Fit7dq4 in module surfinBH._fit_evaluators.fit_7dq4 object:\n",
      "\n",
      "class Fit7dq4(surfinBH.surfinBH.SurFinBH)\n",
      " |  A class for the NRSur7dq4Remnant model presented in Varma et al.,\n",
      " |  arxiv:1905.09300, hereafter referred to as THE PAPER.\n",
      " |  \n",
      " |  This model predicts the final mass mf, final spin vector\n",
      " |  chif and final kick velocity vector vf, for the remnants of precessing\n",
      " |  binary black hole systems.  The fits are done using Gaussian Process\n",
      " |  Regression (GPR) and also provide an error estimate along with the fit\n",
      " |  value.\n",
      " |  \n",
      " |  This model has been trained in the parameter space:\n",
      " |      q <= 4, |chiA| <= 0.8, |chiB| <= 0.8\n",
      " |  \n",
      " |  However, it extrapolates reasonably to:\n",
      " |      q <= 6, |chiA| <= 1, |chiB| <= 1\n",
      " |  \n",
      " |  =========================================================================\n",
      " |  Usage:\n",
      " |  \n",
      " |  import surfinBH\n",
      " |  \n",
      " |  # Load the fit\n",
      " |  fit = surfinBH.LoadFits('NRSur7dq4Remnant')\n",
      " |  \n",
      " |  We provide the following call methods:\n",
      " |      # remnant mass and 1-sigma error estimate\n",
      " |      mf, mf_err = fit.mf(q, chiA, chiB, **kwargs)\n",
      " |  \n",
      " |      # remnant spin and 1-sigma error estimate\n",
      " |      chif, chif_err = fit.chif(q, chiA, chiB, **kwargs)\n",
      " |  \n",
      " |      # remnant recoil kick and 1-sigma error estimate (units of c)\n",
      " |      vf, vf_err = fit.vf(q, chiA, chiB, **kwargs)\n",
      " |  \n",
      " |      # All of these together\n",
      " |      mf, chif, vf, mf_err, chif_err, vf_err\n",
      " |          = fit.all(q, chiA, chiB, **kwargs)\n",
      " |  \n",
      " |  The arguments for each of these call methods are as follows:\n",
      " |  Arguments:\n",
      " |      q:      Mass ratio (q = mA/mB >= 1)\n",
      " |  \n",
      " |      chiA:  Dimensionless spin vector of the heavier black hole at\n",
      " |              reference epoch.\n",
      " |      chiB:  Dimensionless spin vector of the lighter black hole at\n",
      " |              reference epoch.\n",
      " |  \n",
      " |              This follows the same convention as LAL, where the spin\n",
      " |              components are defined as:\n",
      " |              \\chi_z = \\chi \\cdot \\hat{L}, where L is the orbital angular\n",
      " |                  momentum vector at the epoch.\n",
      " |              \\chi_x = \\chi \\cdot \\hat{n}, where n = body2 -> body1 is the\n",
      " |                  separation vector at the epoch. body1 is the heavier body.\n",
      " |              \\chi_y = \\chi \\cdot \\hat{L \\cross n}.\n",
      " |              These spin components are frame-independent as they are defined\n",
      " |              using vector inner products. This is equivalent to specifying\n",
      " |              the spins in the coorbital frame at the reference epoch. See\n",
      " |              THE PAPER for a definition of the coorbital frame.\n",
      " |  \n",
      " |  \n",
      " |  Optional arguments:\n",
      " |  \n",
      " |      omega0: Orbital frequency used to set the reference epoch.\n",
      " |              Default: None.\n",
      " |  \n",
      " |              If omega0 is None, the reference epoch is assumed to be at\n",
      " |              t=-100 M from the peak of the waveform, see THE PAPER for\n",
      " |              definition of the peak.\n",
      " |  \n",
      " |              If 'omega0' is given, the reference epoch is take to be the\n",
      " |              time at which the orbital frequency in the coprecessing frame\n",
      " |              equals omega0. omega0 should be in dimensionless units of\n",
      " |              rad/M, where M is the total mass.\n",
      " |  \n",
      " |              See THE PAPER for how the orbital frequency is\n",
      " |              computed as well as the definition of the coprecessing frame.\n",
      " |  \n",
      " |  \n",
      " |      phi_ref: The angle on the plane of the orbit from the line of ascending\n",
      " |              nodes to the position of the body 1 at reference epoch. Can\n",
      " |              also be thought of as the orbital phase at reference epoch.\n",
      " |              Default: 0.\n",
      " |  \n",
      " |      allow_extrap:\n",
      " |          If False, raises a warning when q > 4.1 or |chiA|,|chiB| > 0.81,\n",
      " |              and raises an error when q > 6.1 or |chiA|,|chiB| > 1.\n",
      " |          If True, allows extrapolation to any q and |chiA|,|chiB| <= 1.\n",
      " |              Use at your own risk.\n",
      " |          Default: False.\n",
      " |  \n",
      " |  Optional PN evolution arguments:\n",
      " |  \n",
      " |      If the omega0 option is used, the spins need to evolved from omega0\n",
      " |      until t=-100M, where the fits will be evaluated. For the late inspiral\n",
      " |      part, we use the internal spin evolution of NRSur7dq4 (also described\n",
      " |      in THE PAPER), which is very accurate. However, this surrogate is not\n",
      " |      long enough for small values of omega0 as it only has data starting at\n",
      " |      t=-4300M. Therefore, whenever the input omega0 is smaller than\n",
      " |      omega_switch_IG (defined below), we use PN evolution to go from omega0\n",
      " |      to about t=-4300M, beyond which we use NRSur7dq4 for spin evolution.\n",
      " |  \n",
      " |      PN_approximant:\n",
      " |          Approximant used to do the PN spin evolution. Choose from\n",
      " |          'SpinTaylorT4', 'SpinTaylorT1' or 'SpinTaylorT2'.\n",
      " |          Default: 'SpinTaylorT4'.\n",
      " |  \n",
      " |      PN_dt:\n",
      " |          Dimensionless time step size in units of M, used for the PN\n",
      " |          evolution. You may need to increase this if omega0 is very low.\n",
      " |          Default: 0.1\n",
      " |  \n",
      " |      PN_spin_order:\n",
      " |          Twice the PN order of spin effects. E.g., use 7 for 3.5PN.\n",
      " |          Default: 7\n",
      " |  \n",
      " |      PN_phase_order:\n",
      " |          Twice the PN order in phase. E.g., use 7 for 3.5PN.\n",
      " |          Default: 7\n",
      " |  \n",
      " |      t_sur_switch:\n",
      " |          The dimensionless time (from the peak) at which we switch from PN\n",
      " |          to the surrogate. Should be something larger than -4300.\n",
      " |          Default: -4100.\n",
      " |  \n",
      " |      omega_switch_IG:\n",
      " |          Initial guess for dimensionless orbital frequency, using which the\n",
      " |          switch will be made from PN to NRSur7dq4. This should be large\n",
      " |          enough to work for generic parts of the surrogate parameter space.\n",
      " |          You may need to increase this if the NRSur7dq4 model raises an\n",
      " |          exception like: \"Got omega_ref=0.02 < 0.018=omega_0, too small!\"\n",
      " |          Default: 0.02\n",
      " |  \n",
      " |          How t_sur_switch and omega_switch_IG work: The PN data is first\n",
      " |          generated starting at omega0, then the PN spins at omega_switch_IG\n",
      " |          are used to generate the NRSur7dq4 dynamics. NRSur7dq4 integrate\n",
      " |          the dynamics both forwards and backwards, so it will have omega and\n",
      " |          spins as a time series starting from -4300M. This is used to pick\n",
      " |          the omega0_sur and spins at t_sur_switch. Then the surrogate\n",
      " |          is reevaluated using omega0_sur and spins at t_sur_switch, thus\n",
      " |          ensuring that the switch always happens at t_sur_switch, even if\n",
      " |          omega_switch_IG corresponds to a later time.\n",
      " |  \n",
      " |  Inertial frame for returned values:\n",
      " |  \n",
      " |      The returned chif and vf are in the inertial frame defined as follows:\n",
      " |      The +ve z-axis is along the orbital angular momentum at the reference\n",
      " |      epoch. The orbital phase at the reference epoch is phi_ref. This means\n",
      " |      that the separation vector from the lighter BH to the heavier BH is at\n",
      " |      an azimuthal angle phi_ref from the +ve x-axis, in the orbital plane at\n",
      " |      the reference epoch. The y-axis completes the right-handed triad.\n",
      " |      Note that the default reference epoch corresponds to t=-100M, but\n",
      " |      if omega0 is given the reference epoch is taken to be the time that\n",
      " |      the orbital frequency in the coprecessing frame is equal to omega0.\n",
      " |      This agrees with the LAL convention. See LIGO DCC document T1800226 for\n",
      " |      the LAL frame diagram.\n",
      " |  \n",
      " |  Method resolution order:\n",
      " |      Fit7dq4\n",
      " |      surfinBH.surfinBH.SurFinBH\n",
      " |      __builtin__.object\n",
      " |  \n",
      " |  Methods defined here:\n",
      " |  \n",
      " |  __init__(self, name, load_nrsur=False)\n",
      " |      #-------------------------------------------------------------------------\n",
      " |  \n",
      " |  ----------------------------------------------------------------------\n",
      " |  Methods inherited from surfinBH.surfinBH.SurFinBH:\n",
      " |  \n",
      " |  all(self, *args, **kwargs)\n",
      " |      Evaluates fit and 1-sigma error estimate for remnant mass, spin\n",
      " |      and kick velocity.\n",
      " |      Returns:\n",
      " |          mf, chif, vf, mf_err_est, chif_err_est, vf_err_est\n",
      " |      \n",
      " |      chif, vf, chif_err_est and vf_err_est are arrays of size 3.\n",
      " |  \n",
      " |  chif(self, *args, **kwargs)\n",
      " |      Evaluates fit and 1-sigma error estimate for remnant spin.\n",
      " |      Returns:\n",
      " |          chif, chif_err_est\n",
      " |      \n",
      " |      chif and chif_err_est are arrays of size 3.\n",
      " |  \n",
      " |  mf(self, *args, **kwargs)\n",
      " |      Evaluates fit and 1-sigma error estimate for remnant mass.\n",
      " |      Returns:\n",
      " |          mf, mf_err_est\n",
      " |  \n",
      " |  vf(self, *args, **kwargs)\n",
      " |      Evaluates fit and 1-sigma error estimate for remnant kick velocity.\n",
      " |      Returns:\n",
      " |          vf, vf_err_est\n",
      " |      \n",
      " |      vf and vf_err_est are arrays of size 3.\n",
      " |  \n",
      " |  ----------------------------------------------------------------------\n",
      " |  Data descriptors inherited from surfinBH.surfinBH.SurFinBH:\n",
      " |  \n",
      " |  __dict__\n",
      " |      dictionary for instance variables (if defined)\n",
      " |  \n",
      " |  __weakref__\n",
      " |      list of weak references to the object (if defined)\n",
      "\n"
     ]
    }
   ],
   "source": [
    "help(fit)"
   ]
  },
  {
   "cell_type": "markdown",
   "metadata": {},
   "source": [
    "## Evaluate the fits (using spins at t=-100 M)"
   ]
  },
  {
   "cell_type": "code",
   "execution_count": 5,
   "metadata": {},
   "outputs": [
    {
     "name": "stdout",
     "output_type": "stream",
     "text": [
      "('mf:', 0.9656720610451307, 'mf_err:', 0.00010895992605092175)\n",
      "('chif:', array([0.22590287, 0.05296894, 0.66365497]), 'chif_err:', array([0.00058071, 0.00057176, 0.0004123 ]))\n",
      "('vf:', array([0.00143326, 0.00012996, 0.00275611]), 'vf_err:', array([2.83343048e-05, 2.66765917e-05, 7.22398079e-05]))\n"
     ]
    }
   ],
   "source": [
    "# Note: By default, the reference epoch is taken to be \n",
    "# at t=-100M from the waveform amplitude peak. The \n",
    "# returned chif and vf are in coorbital frame at t=-100M.\n",
    "\n",
    "# Mass ratio and component spins at reference epoch\n",
    "q = 3.2\n",
    "chiA = [0.5, 0.05, 0.3]\n",
    "chiB = [-0.5, -0.05, 0.1]\n",
    "\n",
    "# remnant mass and 1-sigma error estimate\n",
    "mf, mf_err = fit.mf(q, chiA, chiB)\n",
    "print(\"mf:\", mf, \"mf_err:\", mf_err)\n",
    "\n",
    "# remnant spin and 1-sigma error estimate\n",
    "chif, chif_err = fit.chif(q, chiA, chiB)\n",
    "print(\"chif:\", chif, \"chif_err:\", chif_err)\n",
    "\n",
    "# remnant recoil kick and 1-sigma error estimate (units of c)\n",
    "vf, vf_err = fit.vf(q, chiA, chiB)\n",
    "print(\"vf:\", vf, \"vf_err:\", vf_err)\n",
    "\n",
    "# All of these together\n",
    "mf, chif, vf, mf_err, chif_err, vf_err = fit.all(q, chiA, chiB)"
   ]
  },
  {
   "cell_type": "markdown",
   "metadata": {},
   "source": [
    "# Evaluate the fits using spins at earlier frequencies"
   ]
  },
  {
   "cell_type": "code",
   "execution_count": 6,
   "metadata": {},
   "outputs": [
    {
     "name": "stdout",
     "output_type": "stream",
     "text": [
      "setting __package__ to gwsurrogate.new so relative imports work\n",
      "__name__ = gwsurrogate.new.spline_evaluation\n",
      "__package__= gwsurrogate.new\n",
      "setting __package__ to gwsurrogate.new so relative imports work\n",
      "setting __package__ to gwsurrogate.new so relative imports work\n",
      "Loaded NRSur7dq4 model\n",
      "('mf:', 0.9652639468420269, 'mf_err:', 8.822162192705491e-05)\n",
      "('chif:', array([0.11725788, 0.04544136, 0.70229274]), 'chif_err:', array([0.00051434, 0.00055042, 0.00041028]))\n",
      "('vf:', array([-0.00019566, -0.00015353, -0.00215553]), 'vf_err:', array([2.83119106e-05, 2.06038566e-05, 4.99953313e-05]))\n"
     ]
    }
   ],
   "source": [
    "# Note: If omega0 is given, the reference epoch is taken to be the \n",
    "# time at which the orbital frequency in the coprecessing frame is\n",
    "# equal to omega0. The returned chif and vf are in the LAL interial\n",
    "# frame as described in the documentation.\n",
    "\n",
    "# Mass ratio and component spins at reference epoch\n",
    "q = 3.2\n",
    "chiA = [0.5, 0.05, 0.3]\n",
    "chiB = [-0.5, -0.05, 0.1]\n",
    "\n",
    "#  Dimensionless orbital frequency at reference epoch (in units of rad/M)\n",
    "omega0 = 7e-3\n",
    "\n",
    "# orbital phase at refereence epoch\n",
    "phi_ref = 0.3\n",
    "  \n",
    "# remnant mass and 1-sigma error estimate\n",
    "mf, mf_err = fit.mf(q, chiA, chiB, omega0=omega0, phi_ref=phi_ref)\n",
    "print(\"mf:\", mf, \"mf_err:\", mf_err)\n",
    " \n",
    "# remnant spin and 1-sigma error estimate\n",
    "chif, chif_err = fit.chif(q, chiA, chiB, omega0=omega0, phi_ref=phi_ref)\n",
    "print(\"chif:\", chif, \"chif_err:\", chif_err)\n",
    " \n",
    "# remnant recoil kick and 1-sigma error estimate\n",
    "vf, vf_err = fit.vf(q, chiA, chiB, omega0=omega0, phi_ref=phi_ref)\n",
    "print(\"vf:\", vf, \"vf_err:\", vf_err)\n",
    " \n",
    "# All of these together\n",
    "mf, chif, vf, mf_err, chif_err, vf_err = fit.all(q, chiA, chiB, omega0=omega0, phi_ref=phi_ref)"
   ]
  },
  {
   "cell_type": "code",
   "execution_count": null,
   "metadata": {},
   "outputs": [],
   "source": []
  }
 ],
 "metadata": {
  "kernelspec": {
   "display_name": "Python 2",
   "language": "python",
   "name": "python2"
  },
  "language_info": {
   "codemirror_mode": {
    "name": "ipython",
    "version": 2
   },
   "file_extension": ".py",
   "mimetype": "text/x-python",
   "name": "python",
   "nbconvert_exporter": "python",
   "pygments_lexer": "ipython2",
   "version": "2.7.15"
  }
 },
 "nbformat": 4,
 "nbformat_minor": 2
}
